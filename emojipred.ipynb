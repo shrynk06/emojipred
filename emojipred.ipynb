{
 "cells": [
  {
   "cell_type": "code",
   "execution_count": 76,
   "metadata": {},
   "outputs": [
    {
     "name": "stdout",
     "output_type": "stream",
     "text": [
      "Done\n"
     ]
    }
   ],
   "source": [
    "import numpy as np\n",
    "import pandas as pd\n",
    "import emoji\n",
    "from tensorflow import keras\n",
    "from keras.models import Sequential, load_model\n",
    "from keras.layers import Dense, LSTM, Dropout, Activation\n",
    "from keras.utils import to_categorical\n",
    "from sklearn.preprocessing import LabelEncoder\n",
    "from sklearn.model_selection import train_test_split\n",
    "from keras.preprocessing.text import Tokenizer\n",
    "from keras.preprocessing.sequence import pad_sequences\n",
    "print(\"Done\")"
   ]
  },
  {
   "cell_type": "code",
   "execution_count": 77,
   "metadata": {},
   "outputs": [
    {
     "name": "stdout",
     "output_type": "stream",
     "text": [
      "happy ❤️\n",
      "baseball ⚾\n",
      "smile 😁\n",
      "sad 😓\n",
      "food 🍴\n"
     ]
    }
   ],
   "source": [
    "emoji_dict = {'happy': \"\\u2764\\uFE0F\", 'baseball': \":baseball:\", 'smile': \":beaming_face_with_smiling_eyes:\",\n",
    "              'sad': \":downcast_face_with_sweat:\", 'food': \":fork_and_knife:\"}\n",
    "for ix in emoji_dict.keys():\n",
    "    print (ix,end=\" \")\n",
    "    print (emoji.emojize(emoji_dict[ix]))"
   ]
  },
  {
   "cell_type": "code",
   "execution_count": 78,
   "metadata": {},
   "outputs": [],
   "source": [
    "# Load data\n",
    "train = pd.read_csv('training.csv', header=None)\n",
    "test = pd.read_csv('test.csv', header=None)\n",
    "\n",
    "# Extract features and labels\n",
    "X_train = train.values[:, 0]\n",
    "Y_train = train.values[:, 1]\n",
    "X_test = test.values[:, 0]\n",
    "Y_test = test.values[:, 1]"
   ]
  },
  {
   "cell_type": "code",
   "execution_count": 79,
   "metadata": {},
   "outputs": [],
   "source": [
    "# Convert labels to numerical values\n",
    "label_encoder = LabelEncoder()\n",
    "Y_train_encoded = label_encoder.fit_transform(Y_train)\n",
    "Y_train_categorical = to_categorical(Y_train_encoded)\n",
    "\n",
    "# Tokenize the text data\n",
    "tokenizer = Tokenizer()\n",
    "tokenizer.fit_on_texts(X_train)\n",
    "\n",
    "# Convert text to sequences\n",
    "X_train_sequences = tokenizer.texts_to_sequences(X_train)\n",
    "X_test_sequences = tokenizer.texts_to_sequences(X_test)\n",
    "\n",
    "# Pad sequences to make them of equal length\n",
    "max_length = 10  # Choose an appropriate value based on your data\n",
    "X_train_padded = pad_sequences(X_train_sequences, maxlen=max_length)\n",
    "X_test_padded = pad_sequences(X_test_sequences, maxlen=max_length)"
   ]
  },
  {
   "cell_type": "code",
   "execution_count": 80,
   "metadata": {},
   "outputs": [],
   "source": [
    "# Load pre-trained embeddings\n",
    "embeddings_index = {}\n",
    "with open('./glove.6B.50d.txt', encoding=\"utf-8\") as f:\n",
    "    for line in f:\n",
    "        values = line.split()\n",
    "        word = values[0]\n",
    "        coefs = np.asarray(values[1:], dtype='float32')\n",
    "        embeddings_index[word] = coefs\n",
    "\n",
    "# Filling the embedding matrix\n",
    "embedding_matrix_train = np.zeros((X_train_padded.shape[0], max_length, 50))\n",
    "embedding_matrix_test = np.zeros((X_test_padded.shape[0], max_length, 50))\n",
    "\n",
    "for ix in range(X_train_padded.shape[0]):\n",
    "    for ij in range(min(max_length, len(X_train_padded[ix]))):\n",
    "        word_index = X_train_padded[ix][ij]\n",
    "        if word_index != 0:  # Skip padding index\n",
    "            word = tokenizer.index_word[word_index]\n",
    "            embedding_matrix_train[ix][ij] = embeddings_index.get(word, np.zeros((50,)))\n",
    "\n",
    "for ix in range(X_test_padded.shape[0]):\n",
    "    for ij in range(min(max_length, len(X_test_padded[ix]))):\n",
    "        word_index = X_test_padded[ix][ij]\n",
    "        if word_index != 0:  # Skip padding index\n",
    "            word = tokenizer.index_word[word_index]\n",
    "            embedding_matrix_test[ix][ij] = embeddings_index.get(word, np.zeros((50,)))"
   ]
  },
  {
   "cell_type": "code",
   "execution_count": 81,
   "metadata": {},
   "outputs": [
    {
     "name": "stdout",
     "output_type": "stream",
     "text": [
      "Model: \"sequential_7\"\n",
      "_________________________________________________________________\n",
      " Layer (type)                Output Shape              Param #   \n",
      "=================================================================\n",
      " lstm_14 (LSTM)              (None, 10, 128)           91648     \n",
      "                                                                 \n",
      " dropout_14 (Dropout)        (None, 10, 128)           0         \n",
      "                                                                 \n",
      " lstm_15 (LSTM)              (None, 128)               131584    \n",
      "                                                                 \n",
      " dropout_15 (Dropout)        (None, 128)               0         \n",
      "                                                                 \n",
      " dense_7 (Dense)             (None, 5)                 645       \n",
      "                                                                 \n",
      "=================================================================\n",
      "Total params: 223877 (874.52 KB)\n",
      "Trainable params: 223877 (874.52 KB)\n",
      "Non-trainable params: 0 (0.00 Byte)\n",
      "_________________________________________________________________\n"
     ]
    }
   ],
   "source": [
    "# A simple LSTM network\n",
    "model = Sequential()\n",
    "model.add(LSTM(128, input_shape=(max_length, 20), return_sequences=True))\n",
    "model.add(Dropout(0.5))\n",
    "model.add(LSTM(128, return_sequences=False))\n",
    "model.add(Dropout(0.5))\n",
    "model.add(Dense(5, activation='softmax'))\n",
    "\n",
    "model.summary()\n",
    "\n",
    "model.compile(loss='categorical_crossentropy', optimizer='adam', metrics=['accuracy'])\n"
   ]
  },
  {
   "cell_type": "code",
   "execution_count": 82,
   "metadata": {},
   "outputs": [
    {
     "name": "stdout",
     "output_type": "stream",
     "text": [
      "Epoch 1/50\n",
      "5/5 [==============================] - 5s 200ms/step - loss: 1.5700 - accuracy: 0.3585 - val_loss: 1.5725 - val_accuracy: 0.2750\n",
      "Epoch 2/50\n",
      "5/5 [==============================] - 0s 20ms/step - loss: 1.5196 - accuracy: 0.3648 - val_loss: 1.5821 - val_accuracy: 0.3750\n",
      "Epoch 3/50\n",
      "5/5 [==============================] - 0s 20ms/step - loss: 1.4942 - accuracy: 0.3774 - val_loss: 1.5627 - val_accuracy: 0.2750\n",
      "Epoch 4/50\n",
      "5/5 [==============================] - 0s 19ms/step - loss: 1.4618 - accuracy: 0.3711 - val_loss: 1.5127 - val_accuracy: 0.3500\n",
      "Epoch 5/50\n",
      "5/5 [==============================] - 0s 19ms/step - loss: 1.4190 - accuracy: 0.3585 - val_loss: 1.4656 - val_accuracy: 0.3750\n",
      "Epoch 6/50\n",
      "5/5 [==============================] - 0s 20ms/step - loss: 1.3436 - accuracy: 0.4969 - val_loss: 1.4250 - val_accuracy: 0.3000\n",
      "Epoch 7/50\n",
      "5/5 [==============================] - 0s 19ms/step - loss: 1.2776 - accuracy: 0.4906 - val_loss: 1.3957 - val_accuracy: 0.3000\n",
      "Epoch 8/50\n",
      "5/5 [==============================] - 0s 20ms/step - loss: 1.1985 - accuracy: 0.5472 - val_loss: 1.3843 - val_accuracy: 0.4000\n",
      "Epoch 9/50\n",
      "5/5 [==============================] - 0s 20ms/step - loss: 1.1076 - accuracy: 0.5723 - val_loss: 1.3115 - val_accuracy: 0.4000\n",
      "Epoch 10/50\n",
      "5/5 [==============================] - 0s 19ms/step - loss: 1.0347 - accuracy: 0.6038 - val_loss: 1.2268 - val_accuracy: 0.4750\n",
      "Epoch 11/50\n",
      "5/5 [==============================] - 0s 20ms/step - loss: 0.9714 - accuracy: 0.6415 - val_loss: 1.2749 - val_accuracy: 0.4750\n",
      "Epoch 12/50\n",
      "5/5 [==============================] - 0s 21ms/step - loss: 0.9526 - accuracy: 0.6101 - val_loss: 1.1878 - val_accuracy: 0.5500\n",
      "Epoch 13/50\n",
      "5/5 [==============================] - 0s 20ms/step - loss: 0.8757 - accuracy: 0.6667 - val_loss: 1.2680 - val_accuracy: 0.5750\n",
      "Epoch 14/50\n",
      "5/5 [==============================] - 0s 22ms/step - loss: 0.8622 - accuracy: 0.6730 - val_loss: 1.1718 - val_accuracy: 0.5500\n",
      "Epoch 15/50\n",
      "5/5 [==============================] - 0s 22ms/step - loss: 0.8635 - accuracy: 0.6730 - val_loss: 1.1005 - val_accuracy: 0.5000\n",
      "Epoch 16/50\n",
      "5/5 [==============================] - 0s 21ms/step - loss: 0.7448 - accuracy: 0.7358 - val_loss: 1.1098 - val_accuracy: 0.6500\n",
      "Epoch 17/50\n",
      "5/5 [==============================] - 0s 20ms/step - loss: 0.6984 - accuracy: 0.7925 - val_loss: 1.1575 - val_accuracy: 0.6000\n",
      "Epoch 18/50\n",
      "5/5 [==============================] - 0s 31ms/step - loss: 0.6192 - accuracy: 0.8050 - val_loss: 1.0793 - val_accuracy: 0.5500\n",
      "Epoch 19/50\n",
      "5/5 [==============================] - 0s 20ms/step - loss: 0.5784 - accuracy: 0.8113 - val_loss: 1.0482 - val_accuracy: 0.6500\n",
      "Epoch 20/50\n",
      "5/5 [==============================] - 0s 20ms/step - loss: 0.5511 - accuracy: 0.7862 - val_loss: 1.0777 - val_accuracy: 0.6750\n",
      "Epoch 21/50\n",
      "5/5 [==============================] - 0s 20ms/step - loss: 0.5106 - accuracy: 0.8113 - val_loss: 1.0513 - val_accuracy: 0.6250\n",
      "Epoch 22/50\n",
      "5/5 [==============================] - 0s 20ms/step - loss: 0.5219 - accuracy: 0.8176 - val_loss: 1.0263 - val_accuracy: 0.6000\n",
      "Epoch 23/50\n",
      "5/5 [==============================] - 0s 20ms/step - loss: 0.4442 - accuracy: 0.8365 - val_loss: 1.0961 - val_accuracy: 0.6250\n",
      "Epoch 24/50\n",
      "5/5 [==============================] - 0s 19ms/step - loss: 0.3838 - accuracy: 0.8805 - val_loss: 1.1103 - val_accuracy: 0.6000\n",
      "Epoch 25/50\n",
      "5/5 [==============================] - 0s 20ms/step - loss: 0.4979 - accuracy: 0.8239 - val_loss: 1.0039 - val_accuracy: 0.6000\n",
      "Epoch 26/50\n",
      "5/5 [==============================] - 0s 20ms/step - loss: 0.3777 - accuracy: 0.8805 - val_loss: 1.1465 - val_accuracy: 0.7250\n",
      "Epoch 27/50\n",
      "5/5 [==============================] - 0s 19ms/step - loss: 0.4092 - accuracy: 0.8491 - val_loss: 1.0720 - val_accuracy: 0.6750\n",
      "Epoch 28/50\n",
      "5/5 [==============================] - 0s 20ms/step - loss: 0.3515 - accuracy: 0.8931 - val_loss: 1.2215 - val_accuracy: 0.5500\n",
      "Epoch 29/50\n",
      "5/5 [==============================] - 0s 20ms/step - loss: 0.3552 - accuracy: 0.8868 - val_loss: 1.1199 - val_accuracy: 0.6500\n",
      "Epoch 30/50\n",
      "5/5 [==============================] - 0s 20ms/step - loss: 0.2875 - accuracy: 0.9057 - val_loss: 1.1492 - val_accuracy: 0.6500\n",
      "Epoch 31/50\n",
      "5/5 [==============================] - 0s 20ms/step - loss: 0.2871 - accuracy: 0.9182 - val_loss: 1.1766 - val_accuracy: 0.7000\n",
      "Epoch 32/50\n",
      "5/5 [==============================] - 0s 21ms/step - loss: 0.2662 - accuracy: 0.9119 - val_loss: 1.3496 - val_accuracy: 0.6750\n",
      "Epoch 33/50\n",
      "5/5 [==============================] - 0s 20ms/step - loss: 0.4008 - accuracy: 0.8428 - val_loss: 1.0660 - val_accuracy: 0.7000\n",
      "Epoch 34/50\n",
      "5/5 [==============================] - 0s 20ms/step - loss: 0.3161 - accuracy: 0.8616 - val_loss: 1.0383 - val_accuracy: 0.6500\n",
      "Epoch 35/50\n",
      "5/5 [==============================] - 0s 20ms/step - loss: 0.2357 - accuracy: 0.9371 - val_loss: 1.2078 - val_accuracy: 0.6000\n",
      "Epoch 36/50\n",
      "5/5 [==============================] - 0s 20ms/step - loss: 0.2510 - accuracy: 0.9434 - val_loss: 1.0937 - val_accuracy: 0.6750\n",
      "Epoch 37/50\n",
      "5/5 [==============================] - 0s 20ms/step - loss: 0.2790 - accuracy: 0.9057 - val_loss: 1.1085 - val_accuracy: 0.6000\n",
      "Epoch 38/50\n",
      "5/5 [==============================] - 0s 20ms/step - loss: 0.2315 - accuracy: 0.9182 - val_loss: 1.0790 - val_accuracy: 0.7750\n",
      "Epoch 39/50\n",
      "5/5 [==============================] - 0s 19ms/step - loss: 0.2434 - accuracy: 0.8931 - val_loss: 1.1693 - val_accuracy: 0.6250\n",
      "Epoch 40/50\n",
      "5/5 [==============================] - 0s 20ms/step - loss: 0.2378 - accuracy: 0.9119 - val_loss: 1.0554 - val_accuracy: 0.7000\n",
      "Epoch 41/50\n",
      "5/5 [==============================] - 0s 20ms/step - loss: 0.2272 - accuracy: 0.9119 - val_loss: 1.0920 - val_accuracy: 0.7250\n",
      "Epoch 42/50\n",
      "5/5 [==============================] - 0s 20ms/step - loss: 0.1824 - accuracy: 0.9560 - val_loss: 1.2691 - val_accuracy: 0.6750\n",
      "Epoch 43/50\n",
      "5/5 [==============================] - 0s 21ms/step - loss: 0.1838 - accuracy: 0.9434 - val_loss: 1.1677 - val_accuracy: 0.7000\n",
      "Epoch 44/50\n",
      "5/5 [==============================] - 0s 21ms/step - loss: 0.1877 - accuracy: 0.9497 - val_loss: 1.1440 - val_accuracy: 0.7250\n",
      "Epoch 45/50\n",
      "5/5 [==============================] - 0s 20ms/step - loss: 0.1592 - accuracy: 0.9434 - val_loss: 1.2998 - val_accuracy: 0.7000\n",
      "Epoch 46/50\n",
      "5/5 [==============================] - 0s 20ms/step - loss: 0.1732 - accuracy: 0.9182 - val_loss: 1.2356 - val_accuracy: 0.7250\n",
      "Epoch 47/50\n",
      "5/5 [==============================] - 0s 20ms/step - loss: 0.1540 - accuracy: 0.9497 - val_loss: 1.2428 - val_accuracy: 0.7000\n",
      "Epoch 48/50\n",
      "5/5 [==============================] - 0s 22ms/step - loss: 0.1366 - accuracy: 0.9686 - val_loss: 1.3445 - val_accuracy: 0.7000\n",
      "Epoch 49/50\n",
      "5/5 [==============================] - 0s 20ms/step - loss: 0.1464 - accuracy: 0.9623 - val_loss: 1.3975 - val_accuracy: 0.7000\n",
      "Epoch 50/50\n",
      "5/5 [==============================] - 0s 20ms/step - loss: 0.1332 - accuracy: 0.9686 - val_loss: 1.3279 - val_accuracy: 0.7250\n",
      "Ran full\n"
     ]
    }
   ],
   "source": [
    "# Split the data into training and validation sets\n",
    "X_train_final, X_val, Y_train_final, Y_val = train_test_split(embedding_matrix_train, Y_train_categorical, test_size=0.2, random_state=42)\n",
    "\n",
    "# Training model\n",
    "hist = model.fit(X_train_final, Y_train_final, epochs=50, batch_size=32, validation_data=(X_val, Y_val))\n",
    "print(\"Ran full\")"
   ]
  },
  {
   "cell_type": "code",
   "execution_count": 83,
   "metadata": {},
   "outputs": [
    {
     "name": "stdout",
     "output_type": "stream",
     "text": [
      "2/2 [==============================] - 1s 7ms/step\n",
      "2/2 [==============================] - 0s 8ms/step - loss: 1.2894 - accuracy: 0.7391\n",
      "Model Evaluation - Test Accuracy: 73.91%\n"
     ]
    }
   ],
   "source": [
    "\"\"\"# Prediction of trained model\n",
    "pred = model.predict(embedding_matrix_test)\n",
    "# print(emoji.emojize(emoji_dict[pred[0]]))\n",
    "print(\"Done predicting\")\n",
    "\n",
    "# Convert labels to numerical values for test data\n",
    "Y_test_encoded = label_encoder.transform(Y_test)\n",
    "Y_test_categorical = to_categorical(Y_test_encoded)\n",
    "float(sum(pred==Y_test))/embedding_matrix_test.shape[0]\n",
    "# Evaluate on test data\n",
    "test_loss, test_accuracy = model.evaluate(embedding_matrix_test, Y_test_categorical)\n",
    "print(f'Test Accuracy: {test_accuracy * 100:.2f}%')\"\"\"\n",
    "\n",
    "# Assuming pred is the predicted labels from your model.predict\n",
    "pred = model.predict(embedding_matrix_test)\n",
    "\n",
    "# Flatten the pred array\n",
    "pred_flat = pred.flatten()\n",
    "\n",
    "# Convert labels to numerical values for test data\n",
    "Y_test_encoded = label_encoder.transform(Y_test)\n",
    "Y_test_categorical = to_categorical(Y_test_encoded)\n",
    "# Evaluate on test data\n",
    "test_loss, test_accuracy = model.evaluate(embedding_matrix_test, Y_test_categorical)\n",
    "print(f'Model Evaluation - Test Accuracy: {test_accuracy * 100:.2f}%')\n",
    "\n"
   ]
  },
  {
   "cell_type": "code",
   "execution_count": 84,
   "metadata": {},
   "outputs": [
    {
     "name": "stdout",
     "output_type": "stream",
     "text": [
      "2/2 [==============================] - 0s 5ms/step\n",
      "Text: I want to eat\n",
      "True Label: food - Predicted Label: food\n",
      "\n",
      "Text: he did not answer\n",
      "True Label: sad - Predicted Label: sad\n",
      "\n",
      "Text: he got a raise\n",
      "True Label: smile - Predicted Label: smile\n",
      "\n",
      "Text: she got me a present\n",
      "True Label: heart - Predicted Label: smile\n",
      "\n",
      "Text: ha ha ha it was so funny\n",
      "True Label: smile - Predicted Label: smile\n",
      "\n",
      "Text: he is a good friend\n",
      "True Label: heart - Predicted Label: smile\n",
      "\n",
      "Text: I am upset\n",
      "True Label: heart - Predicted Label: sad\n",
      "\n",
      "Text: We had such a lovely dinner tonight\n",
      "True Label: heart - Predicted Label: smile\n",
      "\n",
      "Text: where is the food\n",
      "True Label: food - Predicted Label: food\n",
      "\n",
      "Text: Stop making this joke ha ha ha\n",
      "True Label: smile - Predicted Label: smile\n",
      "\n",
      "Text: where is the ball\n",
      "True Label: baseball - Predicted Label: baseball\n",
      "\n",
      "Text: work is hard\n",
      "True Label: sad - Predicted Label: sad\n",
      "\n",
      "Text: This girl is messing with me\n",
      "True Label: sad - Predicted Label: sad\n",
      "\n",
      "Text: are you serious ha ha\n",
      "True Label: smile - Predicted Label: sad\n",
      "\n",
      "Text: Let us go play baseball\n",
      "True Label: baseball - Predicted Label: baseball\n",
      "\n",
      "Text: This stupid grader is not working\n",
      "True Label: sad - Predicted Label: sad\n",
      "\n",
      "Text: work is horrible\n",
      "True Label: sad - Predicted Label: sad\n",
      "\n",
      "Text: Congratulation for having a baby\n",
      "True Label: smile - Predicted Label: smile\n",
      "\n",
      "Text: stop messing around\n",
      "True Label: sad - Predicted Label: sad\n",
      "\n",
      "Text: any suggestions for dinner\n",
      "True Label: food - Predicted Label: food\n",
      "\n"
     ]
    }
   ],
   "source": [
    "# Get predictions on the test set\n",
    "Y_pred = model.predict(embedding_matrix_test)\n",
    "\n",
    "# Convert Y_test to integers if it's not already\n",
    "Y_test_int = label_encoder.transform(Y_test)\n",
    "\n",
    "# Display some sample predictions\n",
    "for i in range(20):\n",
    "    print(f\"Text: {X_test[i]}\")\n",
    "    \n",
    "    true_label = label_encoder.inverse_transform([Y_test_int[i]])[0]\n",
    "    predicted_label = label_encoder.inverse_transform(np.argmax([Y_pred[i]], axis=1))[0]\n",
    "    \n",
    "    print(f\"True Label: {true_label} - Predicted Label: {predicted_label}\\n\")\n"
   ]
  },
  {
   "cell_type": "code",
   "execution_count": 75,
   "metadata": {},
   "outputs": [
    {
     "name": "stdout",
     "output_type": "stream",
     "text": [
      "Full run successful\n"
     ]
    }
   ],
   "source": [
    "#model.save('./model/best-model.pt')\n",
    "#model.save('./model/best-model.h5')\n",
    "model.save('mymodel.keras')\n",
    "model.save()\n",
    "\n",
    "print(\"Full run successful\")"
   ]
  },
  {
   "cell_type": "code",
   "execution_count": null,
   "metadata": {},
   "outputs": [],
   "source": []
  }
 ],
 "metadata": {
  "kernelspec": {
   "display_name": "venv",
   "language": "python",
   "name": "python3"
  },
  "language_info": {
   "codemirror_mode": {
    "name": "ipython",
    "version": 3
   },
   "file_extension": ".py",
   "mimetype": "text/x-python",
   "name": "python",
   "nbconvert_exporter": "python",
   "pygments_lexer": "ipython3",
   "version": "3.9.10"
  }
 },
 "nbformat": 4,
 "nbformat_minor": 2
}
